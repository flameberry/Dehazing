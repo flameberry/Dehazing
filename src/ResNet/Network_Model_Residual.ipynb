{
  "cells": [
    {
      "cell_type": "markdown",
      "metadata": {
        "colab_type": "text",
        "id": "oQcB_IZ3SoSx"
      },
      "source": [
        "**Mounting Google Drive for Dataset**"
      ]
    },
    {
      "cell_type": "code",
      "execution_count": null,
      "metadata": {
        "colab": {},
        "colab_type": "code",
        "id": "N5WvauNXSr3i"
      },
      "outputs": [],
      "source": [
        "from google.colab import drive\n",
        "drive.mount('/content/drive') "
      ]
    },
    {
      "cell_type": "markdown",
      "metadata": {
        "colab_type": "text",
        "id": "xfXrgIyOSi7v"
      },
      "source": [
        "**Importing Libraries**"
      ]
    },
    {
      "cell_type": "code",
      "execution_count": 1,
      "metadata": {
        "colab": {},
        "colab_type": "code",
        "id": "_AHvd5tsNT-n"
      },
      "outputs": [],
      "source": [
        "import numpy as np\n",
        "import h5py\n",
        "import math\n",
        "\n",
        "from keras.models import Model\n",
        "from keras.layers import Input, Activation, BatchNormalization, Conv2D, Conv3D\n",
        "from keras.layers import Lambda, Concatenate, MaxPooling2D, Maximum, Add\n",
        "from keras.initializers import RandomNormal\n",
        "from keras.optimizers import SGD\n",
        "from keras.losses import MeanSquaredError\n",
        "from keras.callbacks import Callback,LearningRateScheduler\n",
        "from keras.utils import plot_model\n",
        "\n",
        "import keras.backend as K\n",
        "K.set_image_data_format('channels_last')\n",
        "\n",
        "import matplotlib.pyplot as plt\n",
        "from matplotlib.pyplot import imshow\n",
        "\n",
        "%matplotlib inline"
      ]
    },
    {
      "cell_type": "markdown",
      "metadata": {
        "colab_type": "text",
        "id": "bODVTrnLUxhX"
      },
      "source": [
        "**util functions**"
      ]
    },
    {
      "cell_type": "code",
      "execution_count": 2,
      "metadata": {
        "colab": {},
        "colab_type": "code",
        "id": "g30fKhmUSx0A"
      },
      "outputs": [],
      "source": [
        "# Load Dataset from Google Drive\n",
        "def load_train_dataset():\n",
        "    \"\"\"\n",
        "    Load training dataset from Google Drive\n",
        "    \n",
        "    Returns:\n",
        "    clean_image -- Clean image patches\n",
        "    clean_image -- Hazy image patches\n",
        "    transmission_value -- Transmission value which convert clean image to \n",
        "                          haze image\n",
        "    \"\"\"\n",
        "\n",
        "    file = '../../dataset/dehaze.hdf5'\n",
        "    train_dataset = h5py.File(file, 'r')\n",
        "    clean_image = np.array(train_dataset['clear_image'][:]).astype(np.float32)\n",
        "    haze_image = np.array(train_dataset['hazy_image'][:]).astype(np.float32)\n",
        "    # transmission_map = np.array(train_dataset['transmission_map'])\n",
        "    transmission_map_refine = np.array(train_dataset['transmission_map_refined']).astype(np.float32)\n",
        "    \n",
        "    return clean_image, haze_image, transmission_map_refine\n",
        "\n",
        "\n",
        "# Gaussian Weight Initializtion for layers\n",
        "weight_init = RandomNormal(mean=0.0, stddev=0.001)\n",
        "\n",
        "\n",
        "# LearningRate Decay function\n",
        "def lr_schedule(epoch,lr, logs={}):\n",
        "    \"\"\"\n",
        "    Learning Rate Deacy scheduler\n",
        "\n",
        "    Arguments:\n",
        "    epoch -- current epoch number\n",
        "    lr -- current learning rate\n",
        "    log -- dictionary storing the logs of training\n",
        "\n",
        "    Returns:\n",
        "    lr -- learning rate for next epoch\n",
        "    \"\"\"\n",
        "    \n",
        "    print('learning_rate:',lr)\n",
        "    logs.update({'lr': lr})\n",
        "    if epoch in (49,99):\n",
        "        return lr*0.5\n",
        "    else:\n",
        "        return lr"
      ]
    },
    {
      "cell_type": "markdown",
      "metadata": {
        "colab_type": "text",
        "id": "w6g_9pM0StUr"
      },
      "source": [
        "**Preparing Train Dataset**"
      ]
    },
    {
      "cell_type": "code",
      "execution_count": 3,
      "metadata": {
        "colab": {
          "base_uri": "https://localhost:8080/",
          "height": 100
        },
        "colab_type": "code",
        "id": "gcW1gHygTySj",
        "outputId": "9dae6c97-c8c6-4783-95e4-98e895ae0175"
      },
      "outputs": [
        {
          "name": "stdout",
          "output_type": "stream",
          "text": [
            "Number of training examples: 956\n",
            "Clean Image Patch shape: (956, 512, 512, 3)\n",
            "Haze Image Patch shape: (956, 512, 512, 3)\n",
            "Transmission Map Refine shape: (956, 512, 512, 3)\n"
          ]
        }
      ],
      "source": [
        "clean_image, haze_image, transmission_map_refine = load_train_dataset()\n",
        "\n",
        "print (\"Number of training examples:\", clean_image.shape[0])\n",
        "print (\"Clean Image Patch shape:\", clean_image.shape)\n",
        "print (\"Haze Image Patch shape:\", haze_image.shape)\n",
        "print (\"Transmission Map Refine shape:\", haze_image.shape)"
      ]
    },
    {
      "cell_type": "code",
      "execution_count": 4,
      "metadata": {
        "colab": {
          "base_uri": "https://localhost:8080/",
          "height": 33
        },
        "colab_type": "code",
        "id": "1N4gfzQWXuYk",
        "outputId": "99181846-448d-4b9c-895b-bb571ba4e567"
      },
      "outputs": [],
      "source": [
        "residual_input = np.clip(((haze_image/255.0)/np.expand_dims(transmission_map_refine,axis=3)),0,1)\n",
        "residual_output = np.clip((residual_input-clean_image),0,1)"
      ]
    },
    {
      "cell_type": "code",
      "execution_count": 5,
      "metadata": {},
      "outputs": [],
      "source": [
        "del clean_image, haze_image, transmission_map_refine"
      ]
    },
    {
      "cell_type": "markdown",
      "metadata": {
        "colab_type": "text",
        "id": "WpItPvOdUSyQ"
      },
      "source": [
        "#### Residual Model"
      ]
    },
    {
      "cell_type": "markdown",
      "metadata": {
        "colab_type": "text",
        "id": "6HfwDeLj8RKC"
      },
      "source": [
        "**Designing**"
      ]
    },
    {
      "cell_type": "code",
      "execution_count": 6,
      "metadata": {
        "colab": {},
        "colab_type": "code",
        "id": "nSdxtS_nRAyq"
      },
      "outputs": [],
      "source": [
        "def ResidualBlock(X, iter):\n",
        "    \"\"\"\n",
        "    Implementation of the single block of RNN\n",
        "    \n",
        "    Arguments:\n",
        "    X -- input tensor of shape (m, n_H_prev, n_W_prev, n_C_prev)\n",
        "    iter -- integer, used to name layers, depending on current residual block\n",
        "    \n",
        "    Returns:\n",
        "    X -- output of the identity block, tensor of shape (n_H, n_W, n_C)\n",
        "    \"\"\"\n",
        "    \n",
        "    # Save the input value\n",
        "    X_shortcut = X\n",
        "    \n",
        "    # BATCHNORMALIZATION -> CONV Block\n",
        "    X = BatchNormalization(axis = 3, name = 'res_batchnorm_' + str(iter))(X)\n",
        "    X = Conv2D(1, (3, 3), strides = (1,1), padding = 'same', kernel_initializer = weight_init, name = 'res_conv_' + str(iter))(X)\n",
        "\n",
        "    # Add shortcut value to main path, and pass it through a RELU activation\n",
        "    X = Add(name = 'res_add_'+ str(iter))([X,X_shortcut])\n",
        "    X = Activation('relu', name = 'res_activation_'+ str(iter))(X)\n",
        "    \n",
        "    return X\n",
        "\n",
        "def ResidualModel(input_shape):\n",
        "    \"\"\"\n",
        "    Implementation of the Model.\n",
        "    \n",
        "    Arguments:\n",
        "    input_shape -- shape of the images of the dataset \n",
        "                   (height, width, channels) as a tuple.  \n",
        "\n",
        "    Returns:\n",
        "    model -- a Model() instance in Keras\n",
        "    \"\"\"\n",
        "    \n",
        "    X_input = Input(input_shape, name = 'input1')\n",
        "\n",
        "    # CONV -> RELU Block applied to X\n",
        "    X = Conv2D(16, (3, 3), strides = (1, 1), padding = 'same', kernel_initializer = weight_init, name = 'conv1')(X_input)\n",
        "    X = Activation('relu', name = 'activation1')(X)\n",
        "\n",
        "    # X = Conv2D(8, (1, 1), kernel_initializer = weight_init, name='test_conv')(X)\n",
        "\n",
        "    for i in range(17):\n",
        "        X = ResidualBlock(X, i)\n",
        "    \n",
        "    # CONV BLock\n",
        "    X = Conv2D(3, (3, 3), strides = (1, 1), padding = 'same', kernel_initializer = weight_init, name = 'conv2')(X)\n",
        "    X = Activation('relu', name = 'activation2')(X)\n",
        "\n",
        "    # Create Keras model instance\n",
        "    model = Model(inputs = X_input, outputs = X, name='TransmissionModel')\n",
        "\n",
        "    return model"
      ]
    },
    {
      "cell_type": "markdown",
      "metadata": {
        "colab_type": "text",
        "id": "Uw5ZITqj8TYP"
      },
      "source": [
        "**Compiling**"
      ]
    },
    {
      "cell_type": "code",
      "execution_count": 7,
      "metadata": {
        "colab": {
          "base_uri": "https://localhost:8080/",
          "height": 1000
        },
        "colab_type": "code",
        "id": "lk2ml393VNBA",
        "outputId": "c6b9fb93-2e35-4653-a0e4-6b13fa685cc4"
      },
      "outputs": [
        {
          "name": "stderr",
          "output_type": "stream",
          "text": [
            "2024-02-04 19:47:40.722435: I metal_plugin/src/device/metal_device.cc:1154] Metal device set to: Apple M3 Pro\n",
            "2024-02-04 19:47:40.723209: I metal_plugin/src/device/metal_device.cc:296] systemMemory: 18.00 GB\n",
            "2024-02-04 19:47:40.723220: I metal_plugin/src/device/metal_device.cc:313] maxCacheSize: 6.00 GB\n",
            "2024-02-04 19:47:40.723292: I tensorflow/core/common_runtime/pluggable_device/pluggable_device_factory.cc:306] Could not identify NUMA node of platform GPU ID 0, defaulting to 0. Your kernel may not have been built with NUMA support.\n",
            "2024-02-04 19:47:40.723529: I tensorflow/core/common_runtime/pluggable_device/pluggable_device_factory.cc:272] Created TensorFlow device (/job:localhost/replica:0/task:0/device:GPU:0 with 0 MB memory) -> physical PluggableDevice (device: 0, name: METAL, pci bus id: <undefined>)\n",
            "/Library/Frameworks/Python.framework/Versions/3.11/lib/python3.11/site-packages/keras/src/initializers/initializers.py:120: UserWarning: The initializer RandomNormal is unseeded and being called multiple times, which will return identical values each time (even if the initializer is unseeded). Please update your code to provide a seed to the initializer, or avoid using the same initializer instance more than once.\n",
            "  warnings.warn(\n"
          ]
        },
        {
          "name": "stdout",
          "output_type": "stream",
          "text": [
            "Model: \"TransmissionModel\"\n",
            "__________________________________________________________________________________________________\n",
            " Layer (type)                Output Shape                 Param #   Connected to                  \n",
            "==================================================================================================\n",
            " input1 (InputLayer)         [(None, 512, 512, 3)]        0         []                            \n",
            "                                                                                                  \n",
            " conv1 (Conv2D)              (None, 512, 512, 16)         448       ['input1[0][0]']              \n",
            "                                                                                                  \n",
            " activation1 (Activation)    (None, 512, 512, 16)         0         ['conv1[0][0]']               \n",
            "                                                                                                  \n",
            " res_batchnorm_0 (BatchNorm  (None, 512, 512, 16)         64        ['activation1[0][0]']         \n",
            " alization)                                                                                       \n",
            "                                                                                                  \n",
            " res_conv_0 (Conv2D)         (None, 512, 512, 1)          145       ['res_batchnorm_0[0][0]']     \n",
            "                                                                                                  \n",
            " res_add_0 (Add)             (None, 512, 512, 16)         0         ['res_conv_0[0][0]',          \n",
            "                                                                     'activation1[0][0]']         \n",
            "                                                                                                  \n",
            " res_activation_0 (Activati  (None, 512, 512, 16)         0         ['res_add_0[0][0]']           \n",
            " on)                                                                                              \n",
            "                                                                                                  \n",
            " res_batchnorm_1 (BatchNorm  (None, 512, 512, 16)         64        ['res_activation_0[0][0]']    \n",
            " alization)                                                                                       \n",
            "                                                                                                  \n",
            " res_conv_1 (Conv2D)         (None, 512, 512, 1)          145       ['res_batchnorm_1[0][0]']     \n",
            "                                                                                                  \n",
            " res_add_1 (Add)             (None, 512, 512, 16)         0         ['res_conv_1[0][0]',          \n",
            "                                                                     'res_activation_0[0][0]']    \n",
            "                                                                                                  \n",
            " res_activation_1 (Activati  (None, 512, 512, 16)         0         ['res_add_1[0][0]']           \n",
            " on)                                                                                              \n",
            "                                                                                                  \n",
            " res_batchnorm_2 (BatchNorm  (None, 512, 512, 16)         64        ['res_activation_1[0][0]']    \n",
            " alization)                                                                                       \n",
            "                                                                                                  \n",
            " res_conv_2 (Conv2D)         (None, 512, 512, 1)          145       ['res_batchnorm_2[0][0]']     \n",
            "                                                                                                  \n",
            " res_add_2 (Add)             (None, 512, 512, 16)         0         ['res_conv_2[0][0]',          \n",
            "                                                                     'res_activation_1[0][0]']    \n",
            "                                                                                                  \n",
            " res_activation_2 (Activati  (None, 512, 512, 16)         0         ['res_add_2[0][0]']           \n",
            " on)                                                                                              \n",
            "                                                                                                  \n",
            " res_batchnorm_3 (BatchNorm  (None, 512, 512, 16)         64        ['res_activation_2[0][0]']    \n",
            " alization)                                                                                       \n",
            "                                                                                                  \n",
            " res_conv_3 (Conv2D)         (None, 512, 512, 1)          145       ['res_batchnorm_3[0][0]']     \n",
            "                                                                                                  \n",
            " res_add_3 (Add)             (None, 512, 512, 16)         0         ['res_conv_3[0][0]',          \n",
            "                                                                     'res_activation_2[0][0]']    \n",
            "                                                                                                  \n",
            " res_activation_3 (Activati  (None, 512, 512, 16)         0         ['res_add_3[0][0]']           \n",
            " on)                                                                                              \n",
            "                                                                                                  \n",
            " res_batchnorm_4 (BatchNorm  (None, 512, 512, 16)         64        ['res_activation_3[0][0]']    \n",
            " alization)                                                                                       \n",
            "                                                                                                  \n",
            " res_conv_4 (Conv2D)         (None, 512, 512, 1)          145       ['res_batchnorm_4[0][0]']     \n",
            "                                                                                                  \n",
            " res_add_4 (Add)             (None, 512, 512, 16)         0         ['res_conv_4[0][0]',          \n",
            "                                                                     'res_activation_3[0][0]']    \n",
            "                                                                                                  \n",
            " res_activation_4 (Activati  (None, 512, 512, 16)         0         ['res_add_4[0][0]']           \n",
            " on)                                                                                              \n",
            "                                                                                                  \n",
            " res_batchnorm_5 (BatchNorm  (None, 512, 512, 16)         64        ['res_activation_4[0][0]']    \n",
            " alization)                                                                                       \n",
            "                                                                                                  \n",
            " res_conv_5 (Conv2D)         (None, 512, 512, 1)          145       ['res_batchnorm_5[0][0]']     \n",
            "                                                                                                  \n",
            " res_add_5 (Add)             (None, 512, 512, 16)         0         ['res_conv_5[0][0]',          \n",
            "                                                                     'res_activation_4[0][0]']    \n",
            "                                                                                                  \n",
            " res_activation_5 (Activati  (None, 512, 512, 16)         0         ['res_add_5[0][0]']           \n",
            " on)                                                                                              \n",
            "                                                                                                  \n",
            " res_batchnorm_6 (BatchNorm  (None, 512, 512, 16)         64        ['res_activation_5[0][0]']    \n",
            " alization)                                                                                       \n",
            "                                                                                                  \n",
            " res_conv_6 (Conv2D)         (None, 512, 512, 1)          145       ['res_batchnorm_6[0][0]']     \n",
            "                                                                                                  \n",
            " res_add_6 (Add)             (None, 512, 512, 16)         0         ['res_conv_6[0][0]',          \n",
            "                                                                     'res_activation_5[0][0]']    \n",
            "                                                                                                  \n",
            " res_activation_6 (Activati  (None, 512, 512, 16)         0         ['res_add_6[0][0]']           \n",
            " on)                                                                                              \n",
            "                                                                                                  \n",
            " res_batchnorm_7 (BatchNorm  (None, 512, 512, 16)         64        ['res_activation_6[0][0]']    \n",
            " alization)                                                                                       \n",
            "                                                                                                  \n",
            " res_conv_7 (Conv2D)         (None, 512, 512, 1)          145       ['res_batchnorm_7[0][0]']     \n",
            "                                                                                                  \n",
            " res_add_7 (Add)             (None, 512, 512, 16)         0         ['res_conv_7[0][0]',          \n",
            "                                                                     'res_activation_6[0][0]']    \n",
            "                                                                                                  \n",
            " res_activation_7 (Activati  (None, 512, 512, 16)         0         ['res_add_7[0][0]']           \n",
            " on)                                                                                              \n",
            "                                                                                                  \n",
            " res_batchnorm_8 (BatchNorm  (None, 512, 512, 16)         64        ['res_activation_7[0][0]']    \n",
            " alization)                                                                                       \n",
            "                                                                                                  \n",
            " res_conv_8 (Conv2D)         (None, 512, 512, 1)          145       ['res_batchnorm_8[0][0]']     \n",
            "                                                                                                  \n",
            " res_add_8 (Add)             (None, 512, 512, 16)         0         ['res_conv_8[0][0]',          \n",
            "                                                                     'res_activation_7[0][0]']    \n",
            "                                                                                                  \n",
            " res_activation_8 (Activati  (None, 512, 512, 16)         0         ['res_add_8[0][0]']           \n",
            " on)                                                                                              \n",
            "                                                                                                  \n",
            " res_batchnorm_9 (BatchNorm  (None, 512, 512, 16)         64        ['res_activation_8[0][0]']    \n",
            " alization)                                                                                       \n",
            "                                                                                                  \n",
            " res_conv_9 (Conv2D)         (None, 512, 512, 1)          145       ['res_batchnorm_9[0][0]']     \n",
            "                                                                                                  \n",
            " res_add_9 (Add)             (None, 512, 512, 16)         0         ['res_conv_9[0][0]',          \n",
            "                                                                     'res_activation_8[0][0]']    \n",
            "                                                                                                  \n",
            " res_activation_9 (Activati  (None, 512, 512, 16)         0         ['res_add_9[0][0]']           \n",
            " on)                                                                                              \n",
            "                                                                                                  \n",
            " res_batchnorm_10 (BatchNor  (None, 512, 512, 16)         64        ['res_activation_9[0][0]']    \n",
            " malization)                                                                                      \n",
            "                                                                                                  \n",
            " res_conv_10 (Conv2D)        (None, 512, 512, 1)          145       ['res_batchnorm_10[0][0]']    \n",
            "                                                                                                  \n",
            " res_add_10 (Add)            (None, 512, 512, 16)         0         ['res_conv_10[0][0]',         \n",
            "                                                                     'res_activation_9[0][0]']    \n",
            "                                                                                                  \n",
            " res_activation_10 (Activat  (None, 512, 512, 16)         0         ['res_add_10[0][0]']          \n",
            " ion)                                                                                             \n",
            "                                                                                                  \n",
            " res_batchnorm_11 (BatchNor  (None, 512, 512, 16)         64        ['res_activation_10[0][0]']   \n",
            " malization)                                                                                      \n",
            "                                                                                                  \n",
            " res_conv_11 (Conv2D)        (None, 512, 512, 1)          145       ['res_batchnorm_11[0][0]']    \n",
            "                                                                                                  \n",
            " res_add_11 (Add)            (None, 512, 512, 16)         0         ['res_conv_11[0][0]',         \n",
            "                                                                     'res_activation_10[0][0]']   \n",
            "                                                                                                  \n",
            " res_activation_11 (Activat  (None, 512, 512, 16)         0         ['res_add_11[0][0]']          \n",
            " ion)                                                                                             \n",
            "                                                                                                  \n",
            " res_batchnorm_12 (BatchNor  (None, 512, 512, 16)         64        ['res_activation_11[0][0]']   \n",
            " malization)                                                                                      \n",
            "                                                                                                  \n",
            " res_conv_12 (Conv2D)        (None, 512, 512, 1)          145       ['res_batchnorm_12[0][0]']    \n",
            "                                                                                                  \n",
            " res_add_12 (Add)            (None, 512, 512, 16)         0         ['res_conv_12[0][0]',         \n",
            "                                                                     'res_activation_11[0][0]']   \n",
            "                                                                                                  \n",
            " res_activation_12 (Activat  (None, 512, 512, 16)         0         ['res_add_12[0][0]']          \n",
            " ion)                                                                                             \n",
            "                                                                                                  \n",
            " res_batchnorm_13 (BatchNor  (None, 512, 512, 16)         64        ['res_activation_12[0][0]']   \n",
            " malization)                                                                                      \n",
            "                                                                                                  \n",
            " res_conv_13 (Conv2D)        (None, 512, 512, 1)          145       ['res_batchnorm_13[0][0]']    \n",
            "                                                                                                  \n",
            " res_add_13 (Add)            (None, 512, 512, 16)         0         ['res_conv_13[0][0]',         \n",
            "                                                                     'res_activation_12[0][0]']   \n",
            "                                                                                                  \n",
            " res_activation_13 (Activat  (None, 512, 512, 16)         0         ['res_add_13[0][0]']          \n",
            " ion)                                                                                             \n",
            "                                                                                                  \n",
            " res_batchnorm_14 (BatchNor  (None, 512, 512, 16)         64        ['res_activation_13[0][0]']   \n",
            " malization)                                                                                      \n",
            "                                                                                                  \n",
            " res_conv_14 (Conv2D)        (None, 512, 512, 1)          145       ['res_batchnorm_14[0][0]']    \n",
            "                                                                                                  \n",
            " res_add_14 (Add)            (None, 512, 512, 16)         0         ['res_conv_14[0][0]',         \n",
            "                                                                     'res_activation_13[0][0]']   \n",
            "                                                                                                  \n",
            " res_activation_14 (Activat  (None, 512, 512, 16)         0         ['res_add_14[0][0]']          \n",
            " ion)                                                                                             \n",
            "                                                                                                  \n",
            " res_batchnorm_15 (BatchNor  (None, 512, 512, 16)         64        ['res_activation_14[0][0]']   \n",
            " malization)                                                                                      \n",
            "                                                                                                  \n",
            " res_conv_15 (Conv2D)        (None, 512, 512, 1)          145       ['res_batchnorm_15[0][0]']    \n",
            "                                                                                                  \n",
            " res_add_15 (Add)            (None, 512, 512, 16)         0         ['res_conv_15[0][0]',         \n",
            "                                                                     'res_activation_14[0][0]']   \n",
            "                                                                                                  \n",
            " res_activation_15 (Activat  (None, 512, 512, 16)         0         ['res_add_15[0][0]']          \n",
            " ion)                                                                                             \n",
            "                                                                                                  \n",
            " res_batchnorm_16 (BatchNor  (None, 512, 512, 16)         64        ['res_activation_15[0][0]']   \n",
            " malization)                                                                                      \n",
            "                                                                                                  \n",
            " res_conv_16 (Conv2D)        (None, 512, 512, 1)          145       ['res_batchnorm_16[0][0]']    \n",
            "                                                                                                  \n",
            " res_add_16 (Add)            (None, 512, 512, 16)         0         ['res_conv_16[0][0]',         \n",
            "                                                                     'res_activation_15[0][0]']   \n",
            "                                                                                                  \n",
            " res_activation_16 (Activat  (None, 512, 512, 16)         0         ['res_add_16[0][0]']          \n",
            " ion)                                                                                             \n",
            "                                                                                                  \n",
            " conv2 (Conv2D)              (None, 512, 512, 3)          435       ['res_activation_16[0][0]']   \n",
            "                                                                                                  \n",
            " activation2 (Activation)    (None, 512, 512, 3)          0         ['conv2[0][0]']               \n",
            "                                                                                                  \n",
            "==================================================================================================\n",
            "Total params: 4436 (17.33 KB)\n",
            "Trainable params: 3892 (15.20 KB)\n",
            "Non-trainable params: 544 (2.12 KB)\n",
            "__________________________________________________________________________________________________\n"
          ]
        }
      ],
      "source": [
        "import tensorflow as tf\n",
        "model2 = ResidualModel(residual_input.shape[1:])\n",
        "model2.summary()    \n",
        "model2.compile(optimizer=tf.keras.optimizers.legacy.SGD(0.001), loss=MeanSquaredError())"
      ]
    },
    {
      "cell_type": "markdown",
      "metadata": {
        "colab_type": "text",
        "id": "vWXkYxRe7zud"
      },
      "source": [
        "**Training**"
      ]
    },
    {
      "cell_type": "code",
      "execution_count": 8,
      "metadata": {
        "colab": {},
        "colab_type": "code",
        "id": "S6gpK3oOAOdT"
      },
      "outputs": [
        {
          "name": "stdout",
          "output_type": "stream",
          "text": [
            "learning_rate: 0.0010000000474974513\n",
            "Epoch 1/150\n"
          ]
        },
        {
          "name": "stderr",
          "output_type": "stream",
          "text": [
            "2024-02-04 19:47:48.791255: I tensorflow/core/grappler/optimizers/custom_graph_optimizer_registry.cc:117] Plugin optimizer for device_type GPU is enabled.\n"
          ]
        },
        {
          "name": "stdout",
          "output_type": "stream",
          "text": [
            "32/32 [==============================] - 287s 9s/step - loss: 0.0055 - lr: 0.0010\n",
            "learning_rate: 0.0010000000474974513\n",
            "Epoch 2/150\n",
            "13/32 [===========>..................] - ETA: 2:53 - loss: 0.0052"
          ]
        },
        {
          "ename": "KeyboardInterrupt",
          "evalue": "",
          "output_type": "error",
          "traceback": [
            "\u001b[0;31m---------------------------------------------------------------------------\u001b[0m",
            "\u001b[0;31mKeyboardInterrupt\u001b[0m                         Traceback (most recent call last)",
            "Cell \u001b[0;32mIn[8], line 1\u001b[0m\n\u001b[0;32m----> 1\u001b[0m history2 \u001b[38;5;241m=\u001b[39m \u001b[43mmodel2\u001b[49m\u001b[38;5;241;43m.\u001b[39;49m\u001b[43mfit\u001b[49m\u001b[43m(\u001b[49m\u001b[43mresidual_input\u001b[49m\u001b[43m,\u001b[49m\u001b[43m \u001b[49m\u001b[43mresidual_output\u001b[49m\u001b[43m,\u001b[49m\u001b[43m \u001b[49m\u001b[43mbatch_size\u001b[49m\u001b[43m \u001b[49m\u001b[38;5;241;43m=\u001b[39;49m\u001b[43m \u001b[49m\u001b[38;5;241;43m30\u001b[39;49m\u001b[43m,\u001b[49m\u001b[43m \u001b[49m\u001b[43mepochs\u001b[49m\u001b[43m \u001b[49m\u001b[38;5;241;43m=\u001b[39;49m\u001b[43m \u001b[49m\u001b[38;5;241;43m150\u001b[39;49m\u001b[43m,\u001b[49m\u001b[43m \u001b[49m\u001b[43mcallbacks\u001b[49m\u001b[38;5;241;43m=\u001b[39;49m\u001b[43m[\u001b[49m\u001b[43mLearningRateScheduler\u001b[49m\u001b[43m(\u001b[49m\u001b[43mlr_schedule\u001b[49m\u001b[43m)\u001b[49m\u001b[43m]\u001b[49m\u001b[43m)\u001b[49m\n",
            "File \u001b[0;32m/Library/Frameworks/Python.framework/Versions/3.11/lib/python3.11/site-packages/keras/src/utils/traceback_utils.py:65\u001b[0m, in \u001b[0;36mfilter_traceback.<locals>.error_handler\u001b[0;34m(*args, **kwargs)\u001b[0m\n\u001b[1;32m     63\u001b[0m filtered_tb \u001b[38;5;241m=\u001b[39m \u001b[38;5;28;01mNone\u001b[39;00m\n\u001b[1;32m     64\u001b[0m \u001b[38;5;28;01mtry\u001b[39;00m:\n\u001b[0;32m---> 65\u001b[0m     \u001b[38;5;28;01mreturn\u001b[39;00m \u001b[43mfn\u001b[49m\u001b[43m(\u001b[49m\u001b[38;5;241;43m*\u001b[39;49m\u001b[43margs\u001b[49m\u001b[43m,\u001b[49m\u001b[43m \u001b[49m\u001b[38;5;241;43m*\u001b[39;49m\u001b[38;5;241;43m*\u001b[39;49m\u001b[43mkwargs\u001b[49m\u001b[43m)\u001b[49m\n\u001b[1;32m     66\u001b[0m \u001b[38;5;28;01mexcept\u001b[39;00m \u001b[38;5;167;01mException\u001b[39;00m \u001b[38;5;28;01mas\u001b[39;00m e:\n\u001b[1;32m     67\u001b[0m     filtered_tb \u001b[38;5;241m=\u001b[39m _process_traceback_frames(e\u001b[38;5;241m.\u001b[39m__traceback__)\n",
            "File \u001b[0;32m/Library/Frameworks/Python.framework/Versions/3.11/lib/python3.11/site-packages/keras/src/engine/training.py:1813\u001b[0m, in \u001b[0;36mModel.fit\u001b[0;34m(self, x, y, batch_size, epochs, verbose, callbacks, validation_split, validation_data, shuffle, class_weight, sample_weight, initial_epoch, steps_per_epoch, validation_steps, validation_batch_size, validation_freq, max_queue_size, workers, use_multiprocessing)\u001b[0m\n\u001b[1;32m   1811\u001b[0m logs \u001b[38;5;241m=\u001b[39m tmp_logs\n\u001b[1;32m   1812\u001b[0m end_step \u001b[38;5;241m=\u001b[39m step \u001b[38;5;241m+\u001b[39m data_handler\u001b[38;5;241m.\u001b[39mstep_increment\n\u001b[0;32m-> 1813\u001b[0m \u001b[43mcallbacks\u001b[49m\u001b[38;5;241;43m.\u001b[39;49m\u001b[43mon_train_batch_end\u001b[49m\u001b[43m(\u001b[49m\u001b[43mend_step\u001b[49m\u001b[43m,\u001b[49m\u001b[43m \u001b[49m\u001b[43mlogs\u001b[49m\u001b[43m)\u001b[49m\n\u001b[1;32m   1814\u001b[0m \u001b[38;5;28;01mif\u001b[39;00m \u001b[38;5;28mself\u001b[39m\u001b[38;5;241m.\u001b[39mstop_training:\n\u001b[1;32m   1815\u001b[0m     \u001b[38;5;28;01mbreak\u001b[39;00m\n",
            "File \u001b[0;32m/Library/Frameworks/Python.framework/Versions/3.11/lib/python3.11/site-packages/keras/src/callbacks.py:475\u001b[0m, in \u001b[0;36mCallbackList.on_train_batch_end\u001b[0;34m(self, batch, logs)\u001b[0m\n\u001b[1;32m    468\u001b[0m \u001b[38;5;250m\u001b[39m\u001b[38;5;124;03m\"\"\"Calls the `on_train_batch_end` methods of its callbacks.\u001b[39;00m\n\u001b[1;32m    469\u001b[0m \n\u001b[1;32m    470\u001b[0m \u001b[38;5;124;03mArgs:\u001b[39;00m\n\u001b[1;32m    471\u001b[0m \u001b[38;5;124;03m    batch: Integer, index of batch within the current epoch.\u001b[39;00m\n\u001b[1;32m    472\u001b[0m \u001b[38;5;124;03m    logs: Dict. Aggregated metric results up until this batch.\u001b[39;00m\n\u001b[1;32m    473\u001b[0m \u001b[38;5;124;03m\"\"\"\u001b[39;00m\n\u001b[1;32m    474\u001b[0m \u001b[38;5;28;01mif\u001b[39;00m \u001b[38;5;28mself\u001b[39m\u001b[38;5;241m.\u001b[39m_should_call_train_batch_hooks:\n\u001b[0;32m--> 475\u001b[0m     \u001b[38;5;28;43mself\u001b[39;49m\u001b[38;5;241;43m.\u001b[39;49m\u001b[43m_call_batch_hook\u001b[49m\u001b[43m(\u001b[49m\u001b[43mModeKeys\u001b[49m\u001b[38;5;241;43m.\u001b[39;49m\u001b[43mTRAIN\u001b[49m\u001b[43m,\u001b[49m\u001b[43m \u001b[49m\u001b[38;5;124;43m\"\u001b[39;49m\u001b[38;5;124;43mend\u001b[39;49m\u001b[38;5;124;43m\"\u001b[39;49m\u001b[43m,\u001b[49m\u001b[43m \u001b[49m\u001b[43mbatch\u001b[49m\u001b[43m,\u001b[49m\u001b[43m \u001b[49m\u001b[43mlogs\u001b[49m\u001b[38;5;241;43m=\u001b[39;49m\u001b[43mlogs\u001b[49m\u001b[43m)\u001b[49m\n",
            "File \u001b[0;32m/Library/Frameworks/Python.framework/Versions/3.11/lib/python3.11/site-packages/keras/src/callbacks.py:322\u001b[0m, in \u001b[0;36mCallbackList._call_batch_hook\u001b[0;34m(self, mode, hook, batch, logs)\u001b[0m\n\u001b[1;32m    320\u001b[0m     \u001b[38;5;28mself\u001b[39m\u001b[38;5;241m.\u001b[39m_call_batch_begin_hook(mode, batch, logs)\n\u001b[1;32m    321\u001b[0m \u001b[38;5;28;01melif\u001b[39;00m hook \u001b[38;5;241m==\u001b[39m \u001b[38;5;124m\"\u001b[39m\u001b[38;5;124mend\u001b[39m\u001b[38;5;124m\"\u001b[39m:\n\u001b[0;32m--> 322\u001b[0m     \u001b[38;5;28;43mself\u001b[39;49m\u001b[38;5;241;43m.\u001b[39;49m\u001b[43m_call_batch_end_hook\u001b[49m\u001b[43m(\u001b[49m\u001b[43mmode\u001b[49m\u001b[43m,\u001b[49m\u001b[43m \u001b[49m\u001b[43mbatch\u001b[49m\u001b[43m,\u001b[49m\u001b[43m \u001b[49m\u001b[43mlogs\u001b[49m\u001b[43m)\u001b[49m\n\u001b[1;32m    323\u001b[0m \u001b[38;5;28;01melse\u001b[39;00m:\n\u001b[1;32m    324\u001b[0m     \u001b[38;5;28;01mraise\u001b[39;00m \u001b[38;5;167;01mValueError\u001b[39;00m(\n\u001b[1;32m    325\u001b[0m         \u001b[38;5;124mf\u001b[39m\u001b[38;5;124m\"\u001b[39m\u001b[38;5;124mUnrecognized hook: \u001b[39m\u001b[38;5;132;01m{\u001b[39;00mhook\u001b[38;5;132;01m}\u001b[39;00m\u001b[38;5;124m. \u001b[39m\u001b[38;5;124m\"\u001b[39m\n\u001b[1;32m    326\u001b[0m         \u001b[38;5;124m'\u001b[39m\u001b[38;5;124mExpected values are [\u001b[39m\u001b[38;5;124m\"\u001b[39m\u001b[38;5;124mbegin\u001b[39m\u001b[38;5;124m\"\u001b[39m\u001b[38;5;124m, \u001b[39m\u001b[38;5;124m\"\u001b[39m\u001b[38;5;124mend\u001b[39m\u001b[38;5;124m\"\u001b[39m\u001b[38;5;124m]\u001b[39m\u001b[38;5;124m'\u001b[39m\n\u001b[1;32m    327\u001b[0m     )\n",
            "File \u001b[0;32m/Library/Frameworks/Python.framework/Versions/3.11/lib/python3.11/site-packages/keras/src/callbacks.py:345\u001b[0m, in \u001b[0;36mCallbackList._call_batch_end_hook\u001b[0;34m(self, mode, batch, logs)\u001b[0m\n\u001b[1;32m    342\u001b[0m     batch_time \u001b[38;5;241m=\u001b[39m time\u001b[38;5;241m.\u001b[39mtime() \u001b[38;5;241m-\u001b[39m \u001b[38;5;28mself\u001b[39m\u001b[38;5;241m.\u001b[39m_batch_start_time\n\u001b[1;32m    343\u001b[0m     \u001b[38;5;28mself\u001b[39m\u001b[38;5;241m.\u001b[39m_batch_times\u001b[38;5;241m.\u001b[39mappend(batch_time)\n\u001b[0;32m--> 345\u001b[0m \u001b[38;5;28;43mself\u001b[39;49m\u001b[38;5;241;43m.\u001b[39;49m\u001b[43m_call_batch_hook_helper\u001b[49m\u001b[43m(\u001b[49m\u001b[43mhook_name\u001b[49m\u001b[43m,\u001b[49m\u001b[43m \u001b[49m\u001b[43mbatch\u001b[49m\u001b[43m,\u001b[49m\u001b[43m \u001b[49m\u001b[43mlogs\u001b[49m\u001b[43m)\u001b[49m\n\u001b[1;32m    347\u001b[0m \u001b[38;5;28;01mif\u001b[39;00m \u001b[38;5;28mlen\u001b[39m(\u001b[38;5;28mself\u001b[39m\u001b[38;5;241m.\u001b[39m_batch_times) \u001b[38;5;241m>\u001b[39m\u001b[38;5;241m=\u001b[39m \u001b[38;5;28mself\u001b[39m\u001b[38;5;241m.\u001b[39m_num_batches_for_timing_check:\n\u001b[1;32m    348\u001b[0m     end_hook_name \u001b[38;5;241m=\u001b[39m hook_name\n",
            "File \u001b[0;32m/Library/Frameworks/Python.framework/Versions/3.11/lib/python3.11/site-packages/keras/src/callbacks.py:393\u001b[0m, in \u001b[0;36mCallbackList._call_batch_hook_helper\u001b[0;34m(self, hook_name, batch, logs)\u001b[0m\n\u001b[1;32m    391\u001b[0m \u001b[38;5;28;01mfor\u001b[39;00m callback \u001b[38;5;129;01min\u001b[39;00m \u001b[38;5;28mself\u001b[39m\u001b[38;5;241m.\u001b[39mcallbacks:\n\u001b[1;32m    392\u001b[0m     hook \u001b[38;5;241m=\u001b[39m \u001b[38;5;28mgetattr\u001b[39m(callback, hook_name)\n\u001b[0;32m--> 393\u001b[0m     \u001b[43mhook\u001b[49m\u001b[43m(\u001b[49m\u001b[43mbatch\u001b[49m\u001b[43m,\u001b[49m\u001b[43m \u001b[49m\u001b[43mlogs\u001b[49m\u001b[43m)\u001b[49m\n\u001b[1;32m    395\u001b[0m \u001b[38;5;28;01mif\u001b[39;00m \u001b[38;5;28mself\u001b[39m\u001b[38;5;241m.\u001b[39m_check_timing:\n\u001b[1;32m    396\u001b[0m     \u001b[38;5;28;01mif\u001b[39;00m hook_name \u001b[38;5;129;01mnot\u001b[39;00m \u001b[38;5;129;01min\u001b[39;00m \u001b[38;5;28mself\u001b[39m\u001b[38;5;241m.\u001b[39m_hook_times:\n",
            "File \u001b[0;32m/Library/Frameworks/Python.framework/Versions/3.11/lib/python3.11/site-packages/keras/src/callbacks.py:1093\u001b[0m, in \u001b[0;36mProgbarLogger.on_train_batch_end\u001b[0;34m(self, batch, logs)\u001b[0m\n\u001b[1;32m   1092\u001b[0m \u001b[38;5;28;01mdef\u001b[39;00m \u001b[38;5;21mon_train_batch_end\u001b[39m(\u001b[38;5;28mself\u001b[39m, batch, logs\u001b[38;5;241m=\u001b[39m\u001b[38;5;28;01mNone\u001b[39;00m):\n\u001b[0;32m-> 1093\u001b[0m     \u001b[38;5;28;43mself\u001b[39;49m\u001b[38;5;241;43m.\u001b[39;49m\u001b[43m_batch_update_progbar\u001b[49m\u001b[43m(\u001b[49m\u001b[43mbatch\u001b[49m\u001b[43m,\u001b[49m\u001b[43m \u001b[49m\u001b[43mlogs\u001b[49m\u001b[43m)\u001b[49m\n",
            "File \u001b[0;32m/Library/Frameworks/Python.framework/Versions/3.11/lib/python3.11/site-packages/keras/src/callbacks.py:1169\u001b[0m, in \u001b[0;36mProgbarLogger._batch_update_progbar\u001b[0;34m(self, batch, logs)\u001b[0m\n\u001b[1;32m   1165\u001b[0m     \u001b[38;5;28mself\u001b[39m\u001b[38;5;241m.\u001b[39mseen \u001b[38;5;241m+\u001b[39m\u001b[38;5;241m=\u001b[39m add_seen\n\u001b[1;32m   1167\u001b[0m \u001b[38;5;28;01mif\u001b[39;00m \u001b[38;5;28mself\u001b[39m\u001b[38;5;241m.\u001b[39mverbose \u001b[38;5;241m==\u001b[39m \u001b[38;5;241m1\u001b[39m:\n\u001b[1;32m   1168\u001b[0m     \u001b[38;5;66;03m# Only block async when verbose = 1.\u001b[39;00m\n\u001b[0;32m-> 1169\u001b[0m     logs \u001b[38;5;241m=\u001b[39m \u001b[43mtf_utils\u001b[49m\u001b[38;5;241;43m.\u001b[39;49m\u001b[43msync_to_numpy_or_python_type\u001b[49m\u001b[43m(\u001b[49m\u001b[43mlogs\u001b[49m\u001b[43m)\u001b[49m\n\u001b[1;32m   1170\u001b[0m     \u001b[38;5;28mself\u001b[39m\u001b[38;5;241m.\u001b[39mprogbar\u001b[38;5;241m.\u001b[39mupdate(\u001b[38;5;28mself\u001b[39m\u001b[38;5;241m.\u001b[39mseen, \u001b[38;5;28mlist\u001b[39m(logs\u001b[38;5;241m.\u001b[39mitems()), finalize\u001b[38;5;241m=\u001b[39m\u001b[38;5;28;01mFalse\u001b[39;00m)\n",
            "File \u001b[0;32m/Library/Frameworks/Python.framework/Versions/3.11/lib/python3.11/site-packages/keras/src/utils/tf_utils.py:694\u001b[0m, in \u001b[0;36msync_to_numpy_or_python_type\u001b[0;34m(tensors)\u001b[0m\n\u001b[1;32m    691\u001b[0m         \u001b[38;5;28;01mreturn\u001b[39;00m t\n\u001b[1;32m    692\u001b[0m     \u001b[38;5;28;01mreturn\u001b[39;00m t\u001b[38;5;241m.\u001b[39mitem() \u001b[38;5;28;01mif\u001b[39;00m np\u001b[38;5;241m.\u001b[39mndim(t) \u001b[38;5;241m==\u001b[39m \u001b[38;5;241m0\u001b[39m \u001b[38;5;28;01melse\u001b[39;00m t\n\u001b[0;32m--> 694\u001b[0m \u001b[38;5;28;01mreturn\u001b[39;00m \u001b[43mtf\u001b[49m\u001b[38;5;241;43m.\u001b[39;49m\u001b[43mnest\u001b[49m\u001b[38;5;241;43m.\u001b[39;49m\u001b[43mmap_structure\u001b[49m\u001b[43m(\u001b[49m\u001b[43m_to_single_numpy_or_python_type\u001b[49m\u001b[43m,\u001b[49m\u001b[43m \u001b[49m\u001b[43mtensors\u001b[49m\u001b[43m)\u001b[49m\n",
            "File \u001b[0;32m/Library/Frameworks/Python.framework/Versions/3.11/lib/python3.11/site-packages/tensorflow/python/util/nest.py:631\u001b[0m, in \u001b[0;36mmap_structure\u001b[0;34m(func, *structure, **kwargs)\u001b[0m\n\u001b[1;32m    545\u001b[0m \u001b[38;5;129m@tf_export\u001b[39m(\u001b[38;5;124m\"\u001b[39m\u001b[38;5;124mnest.map_structure\u001b[39m\u001b[38;5;124m\"\u001b[39m)\n\u001b[1;32m    546\u001b[0m \u001b[38;5;28;01mdef\u001b[39;00m \u001b[38;5;21mmap_structure\u001b[39m(func, \u001b[38;5;241m*\u001b[39mstructure, \u001b[38;5;241m*\u001b[39m\u001b[38;5;241m*\u001b[39mkwargs):\n\u001b[1;32m    547\u001b[0m \u001b[38;5;250m  \u001b[39m\u001b[38;5;124;03m\"\"\"Creates a new structure by applying `func` to each atom in `structure`.\u001b[39;00m\n\u001b[1;32m    548\u001b[0m \n\u001b[1;32m    549\u001b[0m \u001b[38;5;124;03m  Refer to [tf.nest](https://www.tensorflow.org/api_docs/python/tf/nest)\u001b[39;00m\n\u001b[0;32m   (...)\u001b[0m\n\u001b[1;32m    629\u001b[0m \u001b[38;5;124;03m    ValueError: If wrong keyword arguments are provided.\u001b[39;00m\n\u001b[1;32m    630\u001b[0m \u001b[38;5;124;03m  \"\"\"\u001b[39;00m\n\u001b[0;32m--> 631\u001b[0m   \u001b[38;5;28;01mreturn\u001b[39;00m \u001b[43mnest_util\u001b[49m\u001b[38;5;241;43m.\u001b[39;49m\u001b[43mmap_structure\u001b[49m\u001b[43m(\u001b[49m\n\u001b[1;32m    632\u001b[0m \u001b[43m      \u001b[49m\u001b[43mnest_util\u001b[49m\u001b[38;5;241;43m.\u001b[39;49m\u001b[43mModality\u001b[49m\u001b[38;5;241;43m.\u001b[39;49m\u001b[43mCORE\u001b[49m\u001b[43m,\u001b[49m\u001b[43m \u001b[49m\u001b[43mfunc\u001b[49m\u001b[43m,\u001b[49m\u001b[43m \u001b[49m\u001b[38;5;241;43m*\u001b[39;49m\u001b[43mstructure\u001b[49m\u001b[43m,\u001b[49m\u001b[43m \u001b[49m\u001b[38;5;241;43m*\u001b[39;49m\u001b[38;5;241;43m*\u001b[39;49m\u001b[43mkwargs\u001b[49m\n\u001b[1;32m    633\u001b[0m \u001b[43m  \u001b[49m\u001b[43m)\u001b[49m\n",
            "File \u001b[0;32m/Library/Frameworks/Python.framework/Versions/3.11/lib/python3.11/site-packages/tensorflow/python/util/nest_util.py:1066\u001b[0m, in \u001b[0;36mmap_structure\u001b[0;34m(modality, func, *structure, **kwargs)\u001b[0m\n\u001b[1;32m    969\u001b[0m \u001b[38;5;250m\u001b[39m\u001b[38;5;124;03m\"\"\"Creates a new structure by applying `func` to each atom in `structure`.\u001b[39;00m\n\u001b[1;32m    970\u001b[0m \n\u001b[1;32m    971\u001b[0m \u001b[38;5;124;03m- For Modality.CORE: Refer to\u001b[39;00m\n\u001b[0;32m   (...)\u001b[0m\n\u001b[1;32m   1063\u001b[0m \u001b[38;5;124;03m  ValueError: If wrong keyword arguments are provided.\u001b[39;00m\n\u001b[1;32m   1064\u001b[0m \u001b[38;5;124;03m\"\"\"\u001b[39;00m\n\u001b[1;32m   1065\u001b[0m \u001b[38;5;28;01mif\u001b[39;00m modality \u001b[38;5;241m==\u001b[39m Modality\u001b[38;5;241m.\u001b[39mCORE:\n\u001b[0;32m-> 1066\u001b[0m   \u001b[38;5;28;01mreturn\u001b[39;00m \u001b[43m_tf_core_map_structure\u001b[49m\u001b[43m(\u001b[49m\u001b[43mfunc\u001b[49m\u001b[43m,\u001b[49m\u001b[43m \u001b[49m\u001b[38;5;241;43m*\u001b[39;49m\u001b[43mstructure\u001b[49m\u001b[43m,\u001b[49m\u001b[43m \u001b[49m\u001b[38;5;241;43m*\u001b[39;49m\u001b[38;5;241;43m*\u001b[39;49m\u001b[43mkwargs\u001b[49m\u001b[43m)\u001b[49m\n\u001b[1;32m   1067\u001b[0m \u001b[38;5;28;01melif\u001b[39;00m modality \u001b[38;5;241m==\u001b[39m Modality\u001b[38;5;241m.\u001b[39mDATA:\n\u001b[1;32m   1068\u001b[0m   \u001b[38;5;28;01mreturn\u001b[39;00m _tf_data_map_structure(func, \u001b[38;5;241m*\u001b[39mstructure, \u001b[38;5;241m*\u001b[39m\u001b[38;5;241m*\u001b[39mkwargs)\n",
            "File \u001b[0;32m/Library/Frameworks/Python.framework/Versions/3.11/lib/python3.11/site-packages/tensorflow/python/util/nest_util.py:1106\u001b[0m, in \u001b[0;36m_tf_core_map_structure\u001b[0;34m(func, *structure, **kwargs)\u001b[0m\n\u001b[1;32m   1101\u001b[0m flat_structure \u001b[38;5;241m=\u001b[39m (_tf_core_flatten(s, expand_composites) \u001b[38;5;28;01mfor\u001b[39;00m s \u001b[38;5;129;01min\u001b[39;00m structure)\n\u001b[1;32m   1102\u001b[0m entries \u001b[38;5;241m=\u001b[39m \u001b[38;5;28mzip\u001b[39m(\u001b[38;5;241m*\u001b[39mflat_structure)\n\u001b[1;32m   1104\u001b[0m \u001b[38;5;28;01mreturn\u001b[39;00m _tf_core_pack_sequence_as(\n\u001b[1;32m   1105\u001b[0m     structure[\u001b[38;5;241m0\u001b[39m],\n\u001b[0;32m-> 1106\u001b[0m     \u001b[43m[\u001b[49m\u001b[43mfunc\u001b[49m\u001b[43m(\u001b[49m\u001b[38;5;241;43m*\u001b[39;49m\u001b[43mx\u001b[49m\u001b[43m)\u001b[49m\u001b[43m \u001b[49m\u001b[38;5;28;43;01mfor\u001b[39;49;00m\u001b[43m \u001b[49m\u001b[43mx\u001b[49m\u001b[43m \u001b[49m\u001b[38;5;129;43;01min\u001b[39;49;00m\u001b[43m \u001b[49m\u001b[43mentries\u001b[49m\u001b[43m]\u001b[49m,\n\u001b[1;32m   1107\u001b[0m     expand_composites\u001b[38;5;241m=\u001b[39mexpand_composites,\n\u001b[1;32m   1108\u001b[0m )\n",
            "File \u001b[0;32m/Library/Frameworks/Python.framework/Versions/3.11/lib/python3.11/site-packages/tensorflow/python/util/nest_util.py:1106\u001b[0m, in \u001b[0;36m<listcomp>\u001b[0;34m(.0)\u001b[0m\n\u001b[1;32m   1101\u001b[0m flat_structure \u001b[38;5;241m=\u001b[39m (_tf_core_flatten(s, expand_composites) \u001b[38;5;28;01mfor\u001b[39;00m s \u001b[38;5;129;01min\u001b[39;00m structure)\n\u001b[1;32m   1102\u001b[0m entries \u001b[38;5;241m=\u001b[39m \u001b[38;5;28mzip\u001b[39m(\u001b[38;5;241m*\u001b[39mflat_structure)\n\u001b[1;32m   1104\u001b[0m \u001b[38;5;28;01mreturn\u001b[39;00m _tf_core_pack_sequence_as(\n\u001b[1;32m   1105\u001b[0m     structure[\u001b[38;5;241m0\u001b[39m],\n\u001b[0;32m-> 1106\u001b[0m     [\u001b[43mfunc\u001b[49m\u001b[43m(\u001b[49m\u001b[38;5;241;43m*\u001b[39;49m\u001b[43mx\u001b[49m\u001b[43m)\u001b[49m \u001b[38;5;28;01mfor\u001b[39;00m x \u001b[38;5;129;01min\u001b[39;00m entries],\n\u001b[1;32m   1107\u001b[0m     expand_composites\u001b[38;5;241m=\u001b[39mexpand_composites,\n\u001b[1;32m   1108\u001b[0m )\n",
            "File \u001b[0;32m/Library/Frameworks/Python.framework/Versions/3.11/lib/python3.11/site-packages/keras/src/utils/tf_utils.py:687\u001b[0m, in \u001b[0;36msync_to_numpy_or_python_type.<locals>._to_single_numpy_or_python_type\u001b[0;34m(t)\u001b[0m\n\u001b[1;32m    684\u001b[0m \u001b[38;5;28;01mdef\u001b[39;00m \u001b[38;5;21m_to_single_numpy_or_python_type\u001b[39m(t):\n\u001b[1;32m    685\u001b[0m     \u001b[38;5;66;03m# Don't turn ragged or sparse tensors to NumPy.\u001b[39;00m\n\u001b[1;32m    686\u001b[0m     \u001b[38;5;28;01mif\u001b[39;00m \u001b[38;5;28misinstance\u001b[39m(t, tf\u001b[38;5;241m.\u001b[39mTensor):\n\u001b[0;32m--> 687\u001b[0m         t \u001b[38;5;241m=\u001b[39m \u001b[43mt\u001b[49m\u001b[38;5;241;43m.\u001b[39;49m\u001b[43mnumpy\u001b[49m\u001b[43m(\u001b[49m\u001b[43m)\u001b[49m\n\u001b[1;32m    688\u001b[0m     \u001b[38;5;66;03m# Strings, ragged and sparse tensors don't have .item(). Return them\u001b[39;00m\n\u001b[1;32m    689\u001b[0m     \u001b[38;5;66;03m# as-is.\u001b[39;00m\n\u001b[1;32m    690\u001b[0m     \u001b[38;5;28;01mif\u001b[39;00m \u001b[38;5;129;01mnot\u001b[39;00m \u001b[38;5;28misinstance\u001b[39m(t, (np\u001b[38;5;241m.\u001b[39mndarray, np\u001b[38;5;241m.\u001b[39mgeneric)):\n",
            "File \u001b[0;32m/Library/Frameworks/Python.framework/Versions/3.11/lib/python3.11/site-packages/tensorflow/python/framework/ops.py:394\u001b[0m, in \u001b[0;36m_EagerTensorBase.numpy\u001b[0;34m(self)\u001b[0m\n\u001b[1;32m    371\u001b[0m \u001b[38;5;250m\u001b[39m\u001b[38;5;124;03m\"\"\"Copy of the contents of this Tensor into a NumPy array or scalar.\u001b[39;00m\n\u001b[1;32m    372\u001b[0m \n\u001b[1;32m    373\u001b[0m \u001b[38;5;124;03mUnlike NumPy arrays, Tensors are immutable, so this method has to copy\u001b[39;00m\n\u001b[0;32m   (...)\u001b[0m\n\u001b[1;32m    391\u001b[0m \u001b[38;5;124;03m    NumPy dtype.\u001b[39;00m\n\u001b[1;32m    392\u001b[0m \u001b[38;5;124;03m\"\"\"\u001b[39;00m\n\u001b[1;32m    393\u001b[0m \u001b[38;5;66;03m# TODO(slebedev): Consider avoiding a copy for non-CPU or remote tensors.\u001b[39;00m\n\u001b[0;32m--> 394\u001b[0m maybe_arr \u001b[38;5;241m=\u001b[39m \u001b[38;5;28;43mself\u001b[39;49m\u001b[38;5;241;43m.\u001b[39;49m\u001b[43m_numpy\u001b[49m\u001b[43m(\u001b[49m\u001b[43m)\u001b[49m  \u001b[38;5;66;03m# pylint: disable=protected-access\u001b[39;00m\n\u001b[1;32m    395\u001b[0m \u001b[38;5;28;01mreturn\u001b[39;00m maybe_arr\u001b[38;5;241m.\u001b[39mcopy() \u001b[38;5;28;01mif\u001b[39;00m \u001b[38;5;28misinstance\u001b[39m(maybe_arr, np\u001b[38;5;241m.\u001b[39mndarray) \u001b[38;5;28;01melse\u001b[39;00m maybe_arr\n",
            "File \u001b[0;32m/Library/Frameworks/Python.framework/Versions/3.11/lib/python3.11/site-packages/tensorflow/python/framework/ops.py:360\u001b[0m, in \u001b[0;36m_EagerTensorBase._numpy\u001b[0;34m(self)\u001b[0m\n\u001b[1;32m    358\u001b[0m \u001b[38;5;28;01mdef\u001b[39;00m \u001b[38;5;21m_numpy\u001b[39m(\u001b[38;5;28mself\u001b[39m):\n\u001b[1;32m    359\u001b[0m   \u001b[38;5;28;01mtry\u001b[39;00m:\n\u001b[0;32m--> 360\u001b[0m     \u001b[38;5;28;01mreturn\u001b[39;00m \u001b[38;5;28;43mself\u001b[39;49m\u001b[38;5;241;43m.\u001b[39;49m\u001b[43m_numpy_internal\u001b[49m\u001b[43m(\u001b[49m\u001b[43m)\u001b[49m\n\u001b[1;32m    361\u001b[0m   \u001b[38;5;28;01mexcept\u001b[39;00m core\u001b[38;5;241m.\u001b[39m_NotOkStatusException \u001b[38;5;28;01mas\u001b[39;00m e:  \u001b[38;5;66;03m# pylint: disable=protected-access\u001b[39;00m\n\u001b[1;32m    362\u001b[0m     \u001b[38;5;28;01mraise\u001b[39;00m core\u001b[38;5;241m.\u001b[39m_status_to_exception(e) \u001b[38;5;28;01mfrom\u001b[39;00m \u001b[38;5;28;01mNone\u001b[39;00m\n",
            "\u001b[0;31mKeyboardInterrupt\u001b[0m: "
          ]
        }
      ],
      "source": [
        "history2 = model2.fit(residual_input, residual_output, batch_size = 30, epochs = 150, callbacks=[LearningRateScheduler(lr_schedule)])"
      ]
    },
    {
      "cell_type": "markdown",
      "metadata": {
        "colab_type": "text",
        "id": "DUZLECSG73rc"
      },
      "source": [
        "**Generating Models and Graph**"
      ]
    },
    {
      "cell_type": "code",
      "execution_count": null,
      "metadata": {
        "colab": {},
        "colab_type": "code",
        "id": "t3LoZlCEkpvC"
      },
      "outputs": [],
      "source": [
        "plot_model(model2, 'res_model.png')\n",
        "plot_model(model2, 'res_model_shape.png', True)"
      ]
    },
    {
      "cell_type": "code",
      "execution_count": null,
      "metadata": {
        "colab": {
          "base_uri": "https://localhost:8080/",
          "height": 573
        },
        "colab_type": "code",
        "id": "UqN0-Ulys8Sh",
        "outputId": "43de1414-6d1d-4dbc-a56b-609904eb38f2"
      },
      "outputs": [
        {
          "data": {
            "image/png": "[encoded data removed]",
            "text/plain": [
              "<Figure size 432x288 with 1 Axes>"
            ]
          },
          "metadata": {
            "needs_background": "light",
            "tags": []
          },
          "output_type": "display_data"
        },
        {
          "data": {
            "image/png": "[encoded data removed]",
            "text/plain": [
              "<Figure size 432x288 with 1 Axes>"
            ]
          },
          "metadata": {
            "needs_background": "light",
            "tags": []
          },
          "output_type": "display_data"
        }
      ],
      "source": [
        "plt.plot(history2.history['lr'])\n",
        "plt.title('model learning rate')\n",
        "plt.ylabel('learning rate')\n",
        "plt.xlabel('epoch')\n",
        "plt.legend(['train'], loc='upper right')\n",
        "plt.savefig('res150-30-lr.png')\n",
        "plt.show()\n",
        "plt.plot(history2.history['loss'])\n",
        "plt.title('model loss')\n",
        "plt.ylabel('loss')\n",
        "plt.xlabel('epoch')\n",
        "plt.legend(['train'], loc='upper right')\n",
        "plt.savefig('res150-30-loss.png')\n",
        "plt.show()"
      ]
    },
    {
      "cell_type": "code",
      "execution_count": null,
      "metadata": {
        "colab": {},
        "colab_type": "code",
        "id": "ayF1BJvyZ2OW"
      },
      "outputs": [],
      "source": [
        "model2.save('resmodel_150_30.h5')\n",
        "model2.save_weights('resmodel_150_30_weights.h5')"
      ]
    },
    {
      "cell_type": "markdown",
      "metadata": {
        "colab_type": "text",
        "id": "OnobuOgv796R"
      },
      "source": [
        "**Predicting**"
      ]
    },
    {
      "cell_type": "code",
      "execution_count": null,
      "metadata": {
        "colab": {
          "base_uri": "https://localhost:8080/",
          "height": 761
        },
        "colab_type": "code",
        "id": "CBoxoZB9YH1M",
        "outputId": "1faf7a39-febc-4257-a39e-fddc701ff389"
      },
      "outputs": [
        {
          "data": {
            "image/png": "[encoded data removed]",
            "text/plain": [
              "<Figure size 432x288 with 1 Axes>"
            ]
          },
          "metadata": {
            "needs_background": "light",
            "tags": []
          },
          "output_type": "display_data"
        },
        {
          "data": {
            "image/png": "[encoded data removed]",
            "text/plain": [
              "<Figure size 432x288 with 1 Axes>"
            ]
          },
          "metadata": {
            "needs_background": "light",
            "tags": []
          },
          "output_type": "display_data"
        },
        {
          "data": {
            "image/png": "[encoded data removed]",
            "text/plain": [
              "<Figure size 432x288 with 1 Axes>"
            ]
          },
          "metadata": {
            "needs_background": "light",
            "tags": []
          },
          "output_type": "display_data"
        }
      ],
      "source": [
        "t = np.expand_dims(residual_input[7], axis=0)\n",
        "T = model2.predict(t)\n",
        "plt.imshow(residual_input[7]-T[0])\n",
        "plt.show()\n",
        "plt.imshow(clean_image[7])\n",
        "plt.show()\n",
        "plt.imshow(haze_image[7])\n",
        "plt.show()"
      ]
    }
  ],
  "metadata": {
    "accelerator": "GPU",
    "colab": {
      "collapsed_sections": [],
      "name": "Network Model-Residual.ipynb",
      "provenance": []
    },
    "kernelspec": {
      "display_name": "Python 3",
      "name": "python3"
    },
    "language_info": {
      "codemirror_mode": {
        "name": "ipython",
        "version": 3
      },
      "file_extension": ".py",
      "mimetype": "text/x-python",
      "name": "python",
      "nbconvert_exporter": "python",
      "pygments_lexer": "ipython3",
      "version": "3.11.6"
    }
  },
  "nbformat": 4,
  "nbformat_minor": 0
}
